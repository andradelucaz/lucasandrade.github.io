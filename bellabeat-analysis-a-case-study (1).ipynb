{
 "cells": [
  {
   "cell_type": "markdown",
   "id": "93cf7be0",
   "metadata": {
    "papermill": {
     "duration": 0.063706,
     "end_time": "2022-02-16T13:26:28.217495",
     "exception": false,
     "start_time": "2022-02-16T13:26:28.153789",
     "status": "completed"
    },
    "tags": []
   },
   "source": [
    "## Bellabeat Analysis - A case study\n"
   ]
  },
  {
   "cell_type": "markdown",
   "id": "bbb99be9",
   "metadata": {
    "papermill": {
     "duration": 0.058369,
     "end_time": "2022-02-16T13:26:28.333593",
     "exception": false,
     "start_time": "2022-02-16T13:26:28.275224",
     "status": "completed"
    },
    "tags": []
   },
   "source": [
    "### Intro\n",
    "\n",
    "Bellabeat is a high-tech company that manufactures health-focused smart products for women. The company has invested in traditional advertising media, but focus on digital marketing extensively. Now, they are looking for more opportunities to growth using public datasets for build a data driven startegy."
   ]
  },
  {
   "cell_type": "markdown",
   "id": "3c821c48",
   "metadata": {
    "papermill": {
     "duration": 0.057536,
     "end_time": "2022-02-16T13:26:28.448956",
     "exception": false,
     "start_time": "2022-02-16T13:26:28.391420",
     "status": "completed"
    },
    "tags": []
   },
   "source": [
    "### Business Task\n",
    "\n",
    "Identify the trends by Analyze the usage of fitness device and provide the recommendations for new marketing strategy and Business improvement strategy from the results."
   ]
  },
  {
   "cell_type": "markdown",
   "id": "45967602",
   "metadata": {
    "papermill": {
     "duration": 0.058367,
     "end_time": "2022-02-16T13:26:28.565265",
     "exception": false,
     "start_time": "2022-02-16T13:26:28.506898",
     "status": "completed"
    },
    "tags": []
   },
   "source": [
    "### Analyze Data - Steps\n",
    "* Ask\n",
    "* Prepare\n",
    "* Process\n",
    "* Analyze\n",
    "* Share\n",
    "* Act"
   ]
  },
  {
   "cell_type": "markdown",
   "id": "7e9abe34",
   "metadata": {
    "papermill": {
     "duration": 0.05813,
     "end_time": "2022-02-16T13:26:28.682185",
     "exception": false,
     "start_time": "2022-02-16T13:26:28.624055",
     "status": "completed"
    },
    "tags": []
   },
   "source": [
    "#### Ask \n",
    "\n",
    "To construct my recommendations, I'll start defining the main questions to guide this analysis:\n",
    "* What are some trends in smart device usage?\n",
    "* How could thesse trends apply to Bellabeat customers?\n",
    "* How could these trends help influence Bellabeat marketing strategy?"
   ]
  },
  {
   "cell_type": "markdown",
   "id": "42aadc50",
   "metadata": {
    "papermill": {
     "duration": 0.05805,
     "end_time": "2022-02-16T13:26:28.799622",
     "exception": false,
     "start_time": "2022-02-16T13:26:28.741572",
     "status": "completed"
    },
    "tags": []
   },
   "source": [
    "#### Prepare\n",
    "Now, using the FitBit Fitness Tracker Data, a public dataset stored in Kaggle, that contains personal fitness tracker from thirty fitbit users and aviable through Mobius, we can explore and find some trends about the users habbits. This datset provides data about physical activity, heart rate, sleep monitoring and daily activty steps.  \n",
    "\n",
    "Lets check out the data"
   ]
  },
  {
   "cell_type": "markdown",
   "id": "b06826c7",
   "metadata": {
    "papermill": {
     "duration": 0.057441,
     "end_time": "2022-02-16T13:26:28.915240",
     "exception": false,
     "start_time": "2022-02-16T13:26:28.857799",
     "status": "completed"
    },
    "tags": []
   },
   "source": [
    "Data source : https://www.kaggle.com/arashnic/fitbit This data set contains 18 csv files."
   ]
  },
  {
   "cell_type": "code",
   "execution_count": 1,
   "id": "6b558289",
   "metadata": {
    "execution": {
     "iopub.execute_input": "2022-02-16T13:26:29.038892Z",
     "iopub.status.busy": "2022-02-16T13:26:29.036197Z",
     "iopub.status.idle": "2022-02-16T13:26:30.309944Z",
     "shell.execute_reply": "2022-02-16T13:26:30.308081Z"
    },
    "papermill": {
     "duration": 1.336177,
     "end_time": "2022-02-16T13:26:30.310096",
     "exception": false,
     "start_time": "2022-02-16T13:26:28.973919",
     "status": "completed"
    },
    "tags": []
   },
   "outputs": [
    {
     "name": "stderr",
     "output_type": "stream",
     "text": [
      "── \u001b[1mAttaching packages\u001b[22m ─────────────────────────────────────── tidyverse 1.3.1 ──\n",
      "\n",
      "\u001b[32m✔\u001b[39m \u001b[34mggplot2\u001b[39m 3.3.5     \u001b[32m✔\u001b[39m \u001b[34mpurrr  \u001b[39m 0.3.4\n",
      "\u001b[32m✔\u001b[39m \u001b[34mtibble \u001b[39m 3.1.5     \u001b[32m✔\u001b[39m \u001b[34mdplyr  \u001b[39m 1.0.7\n",
      "\u001b[32m✔\u001b[39m \u001b[34mtidyr  \u001b[39m 1.1.4     \u001b[32m✔\u001b[39m \u001b[34mstringr\u001b[39m 1.4.0\n",
      "\u001b[32m✔\u001b[39m \u001b[34mreadr  \u001b[39m 2.0.2     \u001b[32m✔\u001b[39m \u001b[34mforcats\u001b[39m 0.5.1\n",
      "\n",
      "── \u001b[1mConflicts\u001b[22m ────────────────────────────────────────── tidyverse_conflicts() ──\n",
      "\u001b[31m✖\u001b[39m \u001b[34mdplyr\u001b[39m::\u001b[32mfilter()\u001b[39m masks \u001b[34mstats\u001b[39m::filter()\n",
      "\u001b[31m✖\u001b[39m \u001b[34mdplyr\u001b[39m::\u001b[32mlag()\u001b[39m    masks \u001b[34mstats\u001b[39m::lag()\n",
      "\n",
      "\n",
      "Attaching package: ‘lubridate’\n",
      "\n",
      "\n",
      "The following objects are masked from ‘package:base’:\n",
      "\n",
      "    date, intersect, setdiff, union\n",
      "\n",
      "\n"
     ]
    }
   ],
   "source": [
    "##carregando pacote tidyverse\n",
    "\n",
    "library(tidyverse)\n",
    "library(lubridate)"
   ]
  },
  {
   "cell_type": "code",
   "execution_count": 2,
   "id": "389ea784",
   "metadata": {
    "execution": {
     "iopub.execute_input": "2022-02-16T13:26:30.474246Z",
     "iopub.status.busy": "2022-02-16T13:26:30.442657Z",
     "iopub.status.idle": "2022-02-16T13:26:30.528916Z",
     "shell.execute_reply": "2022-02-16T13:26:30.526924Z"
    },
    "papermill": {
     "duration": 0.153411,
     "end_time": "2022-02-16T13:26:30.529074",
     "exception": false,
     "start_time": "2022-02-16T13:26:30.375663",
     "status": "completed"
    },
    "tags": []
   },
   "outputs": [
    {
     "name": "stdout",
     "output_type": "stream",
     "text": [
      "Rows: 940\n",
      "Columns: 15\n",
      "$ Id                       \u001b[3m\u001b[90m<dbl>\u001b[39m\u001b[23m 1503960366, 1503960366, 1503960366, 150396036…\n",
      "$ ActivityDate             \u001b[3m\u001b[90m<chr>\u001b[39m\u001b[23m \"4/12/2016\", \"4/13/2016\", \"4/14/2016\", \"4/15/…\n",
      "$ TotalSteps               \u001b[3m\u001b[90m<int>\u001b[39m\u001b[23m 13162, 10735, 10460, 9762, 12669, 9705, 13019…\n",
      "$ TotalDistance            \u001b[3m\u001b[90m<dbl>\u001b[39m\u001b[23m 8.50, 6.97, 6.74, 6.28, 8.16, 6.48, 8.59, 9.8…\n",
      "$ TrackerDistance          \u001b[3m\u001b[90m<dbl>\u001b[39m\u001b[23m 8.50, 6.97, 6.74, 6.28, 8.16, 6.48, 8.59, 9.8…\n",
      "$ LoggedActivitiesDistance \u001b[3m\u001b[90m<dbl>\u001b[39m\u001b[23m 0, 0, 0, 0, 0, 0, 0, 0, 0, 0, 0, 0, 0, 0, 0, …\n",
      "$ VeryActiveDistance       \u001b[3m\u001b[90m<dbl>\u001b[39m\u001b[23m 1.88, 1.57, 2.44, 2.14, 2.71, 3.19, 3.25, 3.5…\n",
      "$ ModeratelyActiveDistance \u001b[3m\u001b[90m<dbl>\u001b[39m\u001b[23m 0.55, 0.69, 0.40, 1.26, 0.41, 0.78, 0.64, 1.3…\n",
      "$ LightActiveDistance      \u001b[3m\u001b[90m<dbl>\u001b[39m\u001b[23m 6.06, 4.71, 3.91, 2.83, 5.04, 2.51, 4.71, 5.0…\n",
      "$ SedentaryActiveDistance  \u001b[3m\u001b[90m<dbl>\u001b[39m\u001b[23m 0, 0, 0, 0, 0, 0, 0, 0, 0, 0, 0, 0, 0, 0, 0, …\n",
      "$ VeryActiveMinutes        \u001b[3m\u001b[90m<int>\u001b[39m\u001b[23m 25, 21, 30, 29, 36, 38, 42, 50, 28, 19, 66, 4…\n",
      "$ FairlyActiveMinutes      \u001b[3m\u001b[90m<int>\u001b[39m\u001b[23m 13, 19, 11, 34, 10, 20, 16, 31, 12, 8, 27, 21…\n",
      "$ LightlyActiveMinutes     \u001b[3m\u001b[90m<int>\u001b[39m\u001b[23m 328, 217, 181, 209, 221, 164, 233, 264, 205, …\n",
      "$ SedentaryMinutes         \u001b[3m\u001b[90m<int>\u001b[39m\u001b[23m 728, 776, 1218, 726, 773, 539, 1149, 775, 818…\n",
      "$ Calories                 \u001b[3m\u001b[90m<int>\u001b[39m\u001b[23m 1985, 1797, 1776, 1745, 1863, 1728, 1921, 203…\n"
     ]
    }
   ],
   "source": [
    "##importando as tabelas\n",
    "\n",
    "dailyActivity_merged <- read.csv(\"../input/fitbit/Fitabase Data 4.12.16-5.12.16/dailyActivity_merged.csv\") #Atividades Diárias\n",
    "glimpse(dailyActivity_merged)"
   ]
  },
  {
   "cell_type": "markdown",
   "id": "9c0a2256",
   "metadata": {
    "papermill": {
     "duration": 0.063312,
     "end_time": "2022-02-16T13:26:30.656819",
     "exception": false,
     "start_time": "2022-02-16T13:26:30.593507",
     "status": "completed"
    },
    "tags": []
   },
   "source": [
    "#### Process\n",
    "##### Cleaning Data\n",
    "\n",
    "Here we'll check, clean and organize the data. This step allows us to identify trends in the Analyze step."
   ]
  },
  {
   "cell_type": "code",
   "execution_count": 3,
   "id": "60c3deff",
   "metadata": {
    "execution": {
     "iopub.execute_input": "2022-02-16T13:26:30.792927Z",
     "iopub.status.busy": "2022-02-16T13:26:30.790767Z",
     "iopub.status.idle": "2022-02-16T13:26:30.844066Z",
     "shell.execute_reply": "2022-02-16T13:26:30.842355Z"
    },
    "papermill": {
     "duration": 0.122965,
     "end_time": "2022-02-16T13:26:30.844214",
     "exception": false,
     "start_time": "2022-02-16T13:26:30.721249",
     "status": "completed"
    },
    "tags": []
   },
   "outputs": [
    {
     "name": "stdout",
     "output_type": "stream",
     "text": [
      "Rows: 940\n",
      "Columns: 15\n",
      "$ Id                       \u001b[3m\u001b[90m<fct>\u001b[39m\u001b[23m 1503960366, 1503960366, 1503960366, 150396036…\n",
      "$ Date                     \u001b[3m\u001b[90m<chr>\u001b[39m\u001b[23m \"4/12/2016\", \"4/13/2016\", \"4/14/2016\", \"4/15/…\n",
      "$ TotalSteps               \u001b[3m\u001b[90m<int>\u001b[39m\u001b[23m 13162, 10735, 10460, 9762, 12669, 9705, 13019…\n",
      "$ TotalDistance            \u001b[3m\u001b[90m<dbl>\u001b[39m\u001b[23m 8.50, 6.97, 6.74, 6.28, 8.16, 6.48, 8.59, 9.8…\n",
      "$ TrackerDistance          \u001b[3m\u001b[90m<dbl>\u001b[39m\u001b[23m 8.50, 6.97, 6.74, 6.28, 8.16, 6.48, 8.59, 9.8…\n",
      "$ LoggedActivitiesDistance \u001b[3m\u001b[90m<dbl>\u001b[39m\u001b[23m 0, 0, 0, 0, 0, 0, 0, 0, 0, 0, 0, 0, 0, 0, 0, …\n",
      "$ VeryActiveDistance       \u001b[3m\u001b[90m<dbl>\u001b[39m\u001b[23m 1.88, 1.57, 2.44, 2.14, 2.71, 3.19, 3.25, 3.5…\n",
      "$ ModeratelyActiveDistance \u001b[3m\u001b[90m<dbl>\u001b[39m\u001b[23m 0.55, 0.69, 0.40, 1.26, 0.41, 0.78, 0.64, 1.3…\n",
      "$ LightActiveDistance      \u001b[3m\u001b[90m<dbl>\u001b[39m\u001b[23m 6.06, 4.71, 3.91, 2.83, 5.04, 2.51, 4.71, 5.0…\n",
      "$ SedentaryActiveDistance  \u001b[3m\u001b[90m<dbl>\u001b[39m\u001b[23m 0, 0, 0, 0, 0, 0, 0, 0, 0, 0, 0, 0, 0, 0, 0, …\n",
      "$ VeryActiveMinutes        \u001b[3m\u001b[90m<int>\u001b[39m\u001b[23m 25, 21, 30, 29, 36, 38, 42, 50, 28, 19, 66, 4…\n",
      "$ FairlyActiveMinutes      \u001b[3m\u001b[90m<int>\u001b[39m\u001b[23m 13, 19, 11, 34, 10, 20, 16, 31, 12, 8, 27, 21…\n",
      "$ LightlyActiveMinutes     \u001b[3m\u001b[90m<int>\u001b[39m\u001b[23m 328, 217, 181, 209, 221, 164, 233, 264, 205, …\n",
      "$ SedentaryMinutes         \u001b[3m\u001b[90m<int>\u001b[39m\u001b[23m 728, 776, 1218, 726, 773, 539, 1149, 775, 818…\n",
      "$ Calories                 \u001b[3m\u001b[90m<int>\u001b[39m\u001b[23m 1985, 1797, 1776, 1745, 1863, 1728, 1921, 203…\n"
     ]
    }
   ],
   "source": [
    "bd <- dailyActivity_merged %>% \n",
    "                    mutate(Id = as.factor(Id))%>%\n",
    "                 rename(Date = ActivityDate)%>%\n",
    "                 drop_na()   \n",
    "glimpse(bd)"
   ]
  },
  {
   "cell_type": "code",
   "execution_count": 4,
   "id": "62d64148",
   "metadata": {
    "execution": {
     "iopub.execute_input": "2022-02-16T13:26:30.983060Z",
     "iopub.status.busy": "2022-02-16T13:26:30.981363Z",
     "iopub.status.idle": "2022-02-16T13:26:31.008970Z",
     "shell.execute_reply": "2022-02-16T13:26:31.007775Z"
    },
    "papermill": {
     "duration": 0.098448,
     "end_time": "2022-02-16T13:26:31.009115",
     "exception": false,
     "start_time": "2022-02-16T13:26:30.910667",
     "status": "completed"
    },
    "tags": []
   },
   "outputs": [
    {
     "name": "stdout",
     "output_type": "stream",
     "text": [
      "Rows: 940\n",
      "Columns: 15\n",
      "$ Id                       \u001b[3m\u001b[90m<fct>\u001b[39m\u001b[23m 1503960366, 1503960366, 1503960366, 150396036…\n",
      "$ Date                     \u001b[3m\u001b[90m<date>\u001b[39m\u001b[23m 2016-04-12, 2016-04-13, 2016-04-14, 2016-04-…\n",
      "$ TotalSteps               \u001b[3m\u001b[90m<int>\u001b[39m\u001b[23m 13162, 10735, 10460, 9762, 12669, 9705, 13019…\n",
      "$ TotalDistance            \u001b[3m\u001b[90m<dbl>\u001b[39m\u001b[23m 8.50, 6.97, 6.74, 6.28, 8.16, 6.48, 8.59, 9.8…\n",
      "$ TrackerDistance          \u001b[3m\u001b[90m<dbl>\u001b[39m\u001b[23m 8.50, 6.97, 6.74, 6.28, 8.16, 6.48, 8.59, 9.8…\n",
      "$ LoggedActivitiesDistance \u001b[3m\u001b[90m<dbl>\u001b[39m\u001b[23m 0, 0, 0, 0, 0, 0, 0, 0, 0, 0, 0, 0, 0, 0, 0, …\n",
      "$ VeryActiveDistance       \u001b[3m\u001b[90m<dbl>\u001b[39m\u001b[23m 1.88, 1.57, 2.44, 2.14, 2.71, 3.19, 3.25, 3.5…\n",
      "$ ModeratelyActiveDistance \u001b[3m\u001b[90m<dbl>\u001b[39m\u001b[23m 0.55, 0.69, 0.40, 1.26, 0.41, 0.78, 0.64, 1.3…\n",
      "$ LightActiveDistance      \u001b[3m\u001b[90m<dbl>\u001b[39m\u001b[23m 6.06, 4.71, 3.91, 2.83, 5.04, 2.51, 4.71, 5.0…\n",
      "$ SedentaryActiveDistance  \u001b[3m\u001b[90m<dbl>\u001b[39m\u001b[23m 0, 0, 0, 0, 0, 0, 0, 0, 0, 0, 0, 0, 0, 0, 0, …\n",
      "$ VeryActiveMinutes        \u001b[3m\u001b[90m<int>\u001b[39m\u001b[23m 25, 21, 30, 29, 36, 38, 42, 50, 28, 19, 66, 4…\n",
      "$ FairlyActiveMinutes      \u001b[3m\u001b[90m<int>\u001b[39m\u001b[23m 13, 19, 11, 34, 10, 20, 16, 31, 12, 8, 27, 21…\n",
      "$ LightlyActiveMinutes     \u001b[3m\u001b[90m<int>\u001b[39m\u001b[23m 328, 217, 181, 209, 221, 164, 233, 264, 205, …\n",
      "$ SedentaryMinutes         \u001b[3m\u001b[90m<int>\u001b[39m\u001b[23m 728, 776, 1218, 726, 773, 539, 1149, 775, 818…\n",
      "$ Calories                 \u001b[3m\u001b[90m<int>\u001b[39m\u001b[23m 1985, 1797, 1776, 1745, 1863, 1728, 1921, 203…\n"
     ]
    }
   ],
   "source": [
    "# Transformando as datas no formato adequado\n",
    "\n",
    "bd$Date <- as.Date(bd$Date, origin = \"1899-12-30\", tryFormats = c(\"%m/%d/%Y\"))\n",
    "\n",
    "glimpse(bd)\n"
   ]
  },
  {
   "cell_type": "markdown",
   "id": "09382a48",
   "metadata": {
    "papermill": {
     "duration": 0.067462,
     "end_time": "2022-02-16T13:26:31.144060",
     "exception": false,
     "start_time": "2022-02-16T13:26:31.076598",
     "status": "completed"
    },
    "tags": []
   },
   "source": [
    "Para entendermos melhor o comportamento dos usuários, dividimos o período de trinta dias de  registro em 3 ciclos de dez dias cada. Dessa forma será possível segmentar os usuários de acordo com status de completude de cada ciclo. O status de completude de cada ciclo é determinado pelo total de dias de atividade física registrados."
   ]
  },
  {
   "cell_type": "code",
   "execution_count": 5,
   "id": "0d53e362",
   "metadata": {
    "execution": {
     "iopub.execute_input": "2022-02-16T13:26:31.282826Z",
     "iopub.status.busy": "2022-02-16T13:26:31.281092Z",
     "iopub.status.idle": "2022-02-16T13:26:31.324611Z",
     "shell.execute_reply": "2022-02-16T13:26:31.323275Z"
    },
    "papermill": {
     "duration": 0.114503,
     "end_time": "2022-02-16T13:26:31.324759",
     "exception": false,
     "start_time": "2022-02-16T13:26:31.210256",
     "status": "completed"
    },
    "tags": []
   },
   "outputs": [],
   "source": [
    "# Categorizando os usuários por número de dias de atividade\n",
    "bd_statusciclo <- bd %>% group_by(Id)%>%\n",
    "    summarize(datareg_inicio = min(Date), datareg_fim = max(Date))%>%\n",
    "    mutate(num_dias = (datareg_fim - datareg_inicio), datafim_primeiro_ciclo = datareg_inicio + 9, \n",
    "           datainicio_segundo_ciclo = datareg_inicio + 10,datafim_segundo_ciclo = datareg_inicio + 19,\n",
    "          datainicio_terceiro_ciclo = datareg_inicio + 20,\n",
    "          status_ciclo = as.factor(case_when(\n",
    "                                  num_dias < 10 ~ \"1º Ciclo incompleto\",\n",
    "                                  num_dias == 10 ~ \"1º Ciclo completo\",\n",
    "                                  num_dias %in% c(11:19) ~ \"2º Ciclo incompleto\",\n",
    "                                  num_dias == 20 ~ \"2º Ciclo completo\",\n",
    "                                  num_dias %in% c(21:29) ~ \"3º Ciclo incompleto\",\n",
    "                                  num_dias == 30 ~ \"3º Ciclo completo\")))"
   ]
  },
  {
   "cell_type": "code",
   "execution_count": 6,
   "id": "87e847ec",
   "metadata": {
    "execution": {
     "iopub.execute_input": "2022-02-16T13:26:31.465172Z",
     "iopub.status.busy": "2022-02-16T13:26:31.463834Z",
     "iopub.status.idle": "2022-02-16T13:26:31.491114Z",
     "shell.execute_reply": "2022-02-16T13:26:31.489624Z"
    },
    "papermill": {
     "duration": 0.099258,
     "end_time": "2022-02-16T13:26:31.491247",
     "exception": false,
     "start_time": "2022-02-16T13:26:31.391989",
     "status": "completed"
    },
    "tags": []
   },
   "outputs": [],
   "source": [
    "# Selecionando IDs que não alcançaram a meta, ou seja, possuem algum ciclo incompleto.\n",
    "id_metainc <- bd_statusciclo %>% filter (status_ciclo %in% c(\"1º Ciclo incompleto\",\"2º Ciclo incompleto\", \"3º Ciclo incompleto\")) %>%\n",
    "                        select(Id) \n",
    "                        \n",
    "\n",
    "#Selecionando IDs que alcançaram a meta completando os três ciclos\n",
    "id_metacomp <- bd_statusciclo %>% filter (status_ciclo == \"3º Ciclo completo\") %>%\n",
    "                        select(Id)"
   ]
  },
  {
   "cell_type": "markdown",
   "id": "5616111d",
   "metadata": {
    "papermill": {
     "duration": 0.066557,
     "end_time": "2022-02-16T13:26:31.625121",
     "exception": false,
     "start_time": "2022-02-16T13:26:31.558564",
     "status": "completed"
    },
    "tags": []
   },
   "source": [
    "É importante identificar na tabela geral de registros, a qual ciclo pertence cada uma das atividades inseridas. Essa identificação é feita a partir da data em que a atividade foi registrada "
   ]
  },
  {
   "cell_type": "code",
   "execution_count": 7,
   "id": "0063e7f6",
   "metadata": {
    "execution": {
     "iopub.execute_input": "2022-02-16T13:26:31.765657Z",
     "iopub.status.busy": "2022-02-16T13:26:31.763530Z",
     "iopub.status.idle": "2022-02-16T13:26:31.800017Z",
     "shell.execute_reply": "2022-02-16T13:26:31.798243Z"
    },
    "papermill": {
     "duration": 0.108398,
     "end_time": "2022-02-16T13:26:31.800163",
     "exception": false,
     "start_time": "2022-02-16T13:26:31.691765",
     "status": "completed"
    },
    "tags": []
   },
   "outputs": [],
   "source": [
    "#criando os intervalos de data que definem inicio e fim de cada ciclo\n",
    "periodo_primeirociclo <- seq.Date(from = dmy(\"12-04-2016\"), to = dmy(\"21-04-2016\"), by = \"day\")\n",
    "periodo_segundociclo <- seq.Date(from = dmy(\"22-04-2016\"), to = dmy(\"01-05-2016\"), by = \"day\")\n",
    "periodo_terceirociclo <- seq.Date(from = dmy(\"02-05-2016\"), to = dmy(\"12-05-2016\"), by = \"day\")"
   ]
  },
  {
   "cell_type": "code",
   "execution_count": 8,
   "id": "5df777df",
   "metadata": {
    "execution": {
     "iopub.execute_input": "2022-02-16T13:26:31.941563Z",
     "iopub.status.busy": "2022-02-16T13:26:31.939457Z",
     "iopub.status.idle": "2022-02-16T13:26:31.970325Z",
     "shell.execute_reply": "2022-02-16T13:26:31.968362Z"
    },
    "papermill": {
     "duration": 0.102893,
     "end_time": "2022-02-16T13:26:31.970489",
     "exception": false,
     "start_time": "2022-02-16T13:26:31.867596",
     "status": "completed"
    },
    "tags": []
   },
   "outputs": [
    {
     "name": "stdout",
     "output_type": "stream",
     "text": [
      "Rows: 940\n",
      "Columns: 16\n",
      "$ Id                       \u001b[3m\u001b[90m<fct>\u001b[39m\u001b[23m 1503960366, 1503960366, 1503960366, 150396036…\n",
      "$ Date                     \u001b[3m\u001b[90m<date>\u001b[39m\u001b[23m 2016-04-12, 2016-04-13, 2016-04-14, 2016-04-…\n",
      "$ TotalSteps               \u001b[3m\u001b[90m<int>\u001b[39m\u001b[23m 13162, 10735, 10460, 9762, 12669, 9705, 13019…\n",
      "$ TotalDistance            \u001b[3m\u001b[90m<dbl>\u001b[39m\u001b[23m 8.50, 6.97, 6.74, 6.28, 8.16, 6.48, 8.59, 9.8…\n",
      "$ TrackerDistance          \u001b[3m\u001b[90m<dbl>\u001b[39m\u001b[23m 8.50, 6.97, 6.74, 6.28, 8.16, 6.48, 8.59, 9.8…\n",
      "$ LoggedActivitiesDistance \u001b[3m\u001b[90m<dbl>\u001b[39m\u001b[23m 0, 0, 0, 0, 0, 0, 0, 0, 0, 0, 0, 0, 0, 0, 0, …\n",
      "$ VeryActiveDistance       \u001b[3m\u001b[90m<dbl>\u001b[39m\u001b[23m 1.88, 1.57, 2.44, 2.14, 2.71, 3.19, 3.25, 3.5…\n",
      "$ ModeratelyActiveDistance \u001b[3m\u001b[90m<dbl>\u001b[39m\u001b[23m 0.55, 0.69, 0.40, 1.26, 0.41, 0.78, 0.64, 1.3…\n",
      "$ LightActiveDistance      \u001b[3m\u001b[90m<dbl>\u001b[39m\u001b[23m 6.06, 4.71, 3.91, 2.83, 5.04, 2.51, 4.71, 5.0…\n",
      "$ SedentaryActiveDistance  \u001b[3m\u001b[90m<dbl>\u001b[39m\u001b[23m 0, 0, 0, 0, 0, 0, 0, 0, 0, 0, 0, 0, 0, 0, 0, …\n",
      "$ VeryActiveMinutes        \u001b[3m\u001b[90m<int>\u001b[39m\u001b[23m 25, 21, 30, 29, 36, 38, 42, 50, 28, 19, 66, 4…\n",
      "$ FairlyActiveMinutes      \u001b[3m\u001b[90m<int>\u001b[39m\u001b[23m 13, 19, 11, 34, 10, 20, 16, 31, 12, 8, 27, 21…\n",
      "$ LightlyActiveMinutes     \u001b[3m\u001b[90m<int>\u001b[39m\u001b[23m 328, 217, 181, 209, 221, 164, 233, 264, 205, …\n",
      "$ SedentaryMinutes         \u001b[3m\u001b[90m<int>\u001b[39m\u001b[23m 728, 776, 1218, 726, 773, 539, 1149, 775, 818…\n",
      "$ Calories                 \u001b[3m\u001b[90m<int>\u001b[39m\u001b[23m 1985, 1797, 1776, 1745, 1863, 1728, 1921, 203…\n",
      "$ Ciclo                    \u001b[3m\u001b[90m<chr>\u001b[39m\u001b[23m \"1º Ciclo\", \"1º Ciclo\", \"1º Ciclo\", \"1º Ciclo…\n"
     ]
    }
   ],
   "source": [
    "bdfin <- bd %>% mutate(Ciclo = case_when(\n",
    "                                Date %in% periodo_primeirociclo ~ \"1º Ciclo\",\n",
    "                                Date %in% periodo_segundociclo ~ \"2º Ciclo\",\n",
    "                                Date %in% periodo_terceirociclo ~ \"3º Ciclo\"))\n",
    "glimpse(bdfin)                       "
   ]
  },
  {
   "cell_type": "markdown",
   "id": "4adb1895",
   "metadata": {
    "papermill": {
     "duration": 0.070086,
     "end_time": "2022-02-16T13:26:32.109182",
     "exception": false,
     "start_time": "2022-02-16T13:26:32.039096",
     "status": "completed"
    },
    "tags": []
   },
   "source": [
    "#### Analyze\n"
   ]
  },
  {
   "cell_type": "markdown",
   "id": "4a39a105",
   "metadata": {
    "papermill": {
     "duration": 0.067746,
     "end_time": "2022-02-16T13:26:32.245632",
     "exception": false,
     "start_time": "2022-02-16T13:26:32.177886",
     "status": "completed"
    },
    "tags": []
   },
   "source": [
    "Analisando os resultados dos usuários percebemos que, conforme mostrado no gráfico abaixo, cerca de 36% deles não completaram os 30 dias de atividade física diária. Esses números indicam uma dificuldade de manutenção do propósito de uma vida mais saudável, considerando a necessidade da realização de atividades físicas diariamente."
   ]
  },
  {
   "cell_type": "code",
   "execution_count": 9,
   "id": "44db5fed",
   "metadata": {
    "execution": {
     "iopub.execute_input": "2022-02-16T13:26:32.389115Z",
     "iopub.status.busy": "2022-02-16T13:26:32.387032Z",
     "iopub.status.idle": "2022-02-16T13:26:33.087707Z",
     "shell.execute_reply": "2022-02-16T13:26:33.088203Z"
    },
    "papermill": {
     "duration": 0.773725,
     "end_time": "2022-02-16T13:26:33.088370",
     "exception": false,
     "start_time": "2022-02-16T13:26:32.314645",
     "status": "completed"
    },
    "tags": []
   },
   "outputs": [
    {
     "data": {
      "image/png": "[encoded data removed]"
     },
     "metadata": {
      "image/png": {
       "height": 420,
       "width": 420
      }
     },
     "output_type": "display_data"
    }
   ],
   "source": [
    "bd_statusciclo %>% group_by(status_ciclo)%>%\n",
    "    summarise(freq = n())%>%\n",
    "    mutate(freq_percent= as.numeric(round(100 *(freq/sum(freq)),2)), status_ciclo = fct_reorder(status_ciclo, freq_percent))%>%\n",
    "    arrange(desc(freq_percent))%>%\n",
    "ggplot(aes(x =\"\", y=freq_percent, fill=status_ciclo))+\n",
    "geom_bar(width = 1, stat = \"identity\") +\n",
    "coord_polar(\"y\", start=0) + \n",
    "geom_text(aes(x =\"\", y=freq_percent, label = paste(freq_percent,\"%\")),\n",
    "            position = position_stack(vjust = 0.5))+\n",
    "scale_fill_brewer(palette=\"Greens\")+\n",
    "              theme_minimal()"
   ]
  },
  {
   "cell_type": "markdown",
   "id": "00857100",
   "metadata": {
    "papermill": {
     "duration": 0.071565,
     "end_time": "2022-02-16T13:26:33.231446",
     "exception": false,
     "start_time": "2022-02-16T13:26:33.159881",
     "status": "completed"
    },
    "tags": []
   },
   "source": [
    "Comparando os dois grupos, ou seja, usuários que completaram os três ciclos e os que não completaram, podemos perceber que a diferença entre as distâncias percorridas começam a se acentuar a partir do 2º Ciclo, resultando em uma diferença ainda maior no 3º Ciclo, em função da desistência em completar os 30 dias de atividade física.Como mostrado no gráfico abaixo:"
   ]
  },
  {
   "cell_type": "code",
   "execution_count": 10,
   "id": "0470908d",
   "metadata": {
    "execution": {
     "iopub.execute_input": "2022-02-16T13:26:33.381121Z",
     "iopub.status.busy": "2022-02-16T13:26:33.379562Z",
     "iopub.status.idle": "2022-02-16T13:26:33.682124Z",
     "shell.execute_reply": "2022-02-16T13:26:33.681447Z"
    },
    "papermill": {
     "duration": 0.379171,
     "end_time": "2022-02-16T13:26:33.682259",
     "exception": false,
     "start_time": "2022-02-16T13:26:33.303088",
     "status": "completed"
    },
    "tags": []
   },
   "outputs": [
    {
     "name": "stderr",
     "output_type": "stream",
     "text": [
      "`summarise()` has grouped output by 'status_meta'. You can override using the `.groups` argument.\n",
      "\n"
     ]
    },
    {
     "data": {
      "image/png": "[encoded data removed]"
     },
     "metadata": {
      "image/png": {
       "height": 420,
       "width": 420
      }
     },
     "output_type": "display_data"
    }
   ],
   "source": [
    "bdfin %>% mutate(status_meta = ifelse(Id %in% id_metainc$Id, \"Meta não alcançada\", \"Meta alcançada\")) %>%\n",
    "    group_by(status_meta, Ciclo)%>%\n",
    "    summarize(mean_distance = round(mean(TotalDistance),2)) %>%\n",
    "ggplot(aes(x= Ciclo, y=mean_distance, fill = status_meta))+\n",
    "geom_col(position = 'dodge')+\n",
    "scale_fill_brewer(palette=\"Oranges\")+\n",
    "theme_minimal()\n",
    "   "
   ]
  },
  {
   "cell_type": "markdown",
   "id": "acfe02f4",
   "metadata": {
    "papermill": {
     "duration": 0.076166,
     "end_time": "2022-02-16T13:26:33.833122",
     "exception": false,
     "start_time": "2022-02-16T13:26:33.756956",
     "status": "completed"
    },
    "tags": []
   },
   "source": [
    "Como mostrado na tabela abaixo, a distância média percorrida no 2º Ciclo, pelos usuários que não atingiram a meta é cerca de 15% menor se comparado ao grupo  de usuários que atingiram a meta."
   ]
  },
  {
   "cell_type": "code",
   "execution_count": 11,
   "id": "fa6b1f32",
   "metadata": {
    "execution": {
     "iopub.execute_input": "2022-02-16T13:26:33.990732Z",
     "iopub.status.busy": "2022-02-16T13:26:33.989325Z",
     "iopub.status.idle": "2022-02-16T13:26:34.091460Z",
     "shell.execute_reply": "2022-02-16T13:26:34.090021Z"
    },
    "papermill": {
     "duration": 0.183406,
     "end_time": "2022-02-16T13:26:34.091640",
     "exception": false,
     "start_time": "2022-02-16T13:26:33.908234",
     "status": "completed"
    },
    "tags": []
   },
   "outputs": [
    {
     "name": "stderr",
     "output_type": "stream",
     "text": [
      "`summarise()` has grouped output by 'status_meta'. You can override using the `.groups` argument.\n",
      "\n"
     ]
    },
    {
     "data": {
      "text/plain": [
       "\n",
       "\n",
       "|status_meta        |Ciclo    | mean_distance|\n",
       "|:------------------|:--------|-------------:|\n",
       "|Meta alcançada     |1º Ciclo |          5.76|\n",
       "|Meta não alcançada |1º Ciclo |          5.39|\n",
       "|Meta alcançada     |2º Ciclo |          5.80|\n",
       "|Meta não alcançada |2º Ciclo |          5.03|\n",
       "|Meta alcançada     |3º Ciclo |          5.59|\n",
       "|Meta não alcançada |3º Ciclo |          4.27|"
      ]
     },
     "metadata": {},
     "output_type": "display_data"
    }
   ],
   "source": [
    "comp_ciclo_meta <- bdfin %>% mutate(status_meta = ifelse(Id %in% id_metainc$Id, \"Meta não alcançada\", \"Meta alcançada\")) %>%\n",
    "    group_by(status_meta, Ciclo)%>%\n",
    "    summarize(mean_distance = round(mean(TotalDistance),2))%>%\n",
    "    arrange(Ciclo, status_meta)\n",
    "knitr::kable(comp_ciclo_meta)"
   ]
  },
  {
   "cell_type": "markdown",
   "id": "4037504d",
   "metadata": {
    "papermill": {
     "duration": 0.077334,
     "end_time": "2022-02-16T13:26:34.246959",
     "exception": false,
     "start_time": "2022-02-16T13:26:34.169625",
     "status": "completed"
    },
    "tags": []
   },
   "source": [
    "### Recomendação\n",
    "Como resultado da análise acima recomenda-se ações de retenção de usuários a partir do décimo primeiro dia de atividade física regular, considerando um ciclo de 30 dias."
   ]
  }
 ],
 "metadata": {
  "kernelspec": {
   "display_name": "R",
   "language": "R",
   "name": "ir"
  },
  "language_info": {
   "codemirror_mode": "r",
   "file_extension": ".r",
   "mimetype": "text/x-r-source",
   "name": "R",
   "pygments_lexer": "r",
   "version": "4.0.5"
  },
  "papermill": {
   "default_parameters": {},
   "duration": 9.468433,
   "end_time": "2022-02-16T13:26:34.437268",
   "environment_variables": {},
   "exception": null,
   "input_path": "__notebook__.ipynb",
   "output_path": "__notebook__.ipynb",
   "parameters": {},
   "start_time": "2022-02-16T13:26:24.968835",
   "version": "2.3.3"
  }
 },
 "nbformat": 4,
 "nbformat_minor": 5
}
